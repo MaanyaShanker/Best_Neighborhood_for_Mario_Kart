{
 "cells": [
  {
   "cell_type": "markdown",
   "metadata": {},
   "source": [
    "# Metric: Speed Humps in Neighborhoods"
   ]
  },
  {
   "cell_type": "code",
   "execution_count": 2,
   "metadata": {},
   "outputs": [],
   "source": [
    "# import necessary libraries\n",
    "\n",
    "import pandas as pd\n",
    "%matplotlib inline\n",
    "import matplotlib.pyplot as plt\n",
    "import geopandas\n",
    "import numpy as np\n",
    "from math import radians, sin, cos, sin, asin, sqrt, pi"
   ]
  },
  {
   "cell_type": "markdown",
   "metadata": {},
   "source": [
    "On to a more fun aspect of mario kart, that's the boost! In real life, the boost is represented as speed humps. In order to choose a neighborhood, I went ahead and looked at the number of speed humps in the dataset."
   ]
  },
  {
   "cell_type": "code",
   "execution_count": 3,
   "metadata": {},
   "outputs": [
    {
     "data": {
      "text/html": [
       "<div>\n",
       "<style scoped>\n",
       "    .dataframe tbody tr th:only-of-type {\n",
       "        vertical-align: middle;\n",
       "    }\n",
       "\n",
       "    .dataframe tbody tr th {\n",
       "        vertical-align: top;\n",
       "    }\n",
       "\n",
       "    .dataframe thead th {\n",
       "        text-align: right;\n",
       "    }\n",
       "</style>\n",
       "<table border=\"1\" class=\"dataframe\">\n",
       "  <thead>\n",
       "    <tr style=\"text-align: right;\">\n",
       "      <th></th>\n",
       "      <th>id</th>\n",
       "      <th>hump_id</th>\n",
       "      <th>locator_address_number</th>\n",
       "      <th>locator_street</th>\n",
       "      <th>pavement</th>\n",
       "      <th>speed_hump_material</th>\n",
       "      <th>neighborhood</th>\n",
       "      <th>council_district</th>\n",
       "      <th>ward</th>\n",
       "      <th>tract</th>\n",
       "      <th>public_works_division</th>\n",
       "      <th>pli_division</th>\n",
       "      <th>police_zone</th>\n",
       "      <th>fire_zone</th>\n",
       "      <th>latitude</th>\n",
       "      <th>longitude</th>\n",
       "    </tr>\n",
       "  </thead>\n",
       "  <tbody>\n",
       "    <tr>\n",
       "      <th>0</th>\n",
       "      <td>430808404</td>\n",
       "      <td>1</td>\n",
       "      <td>4337.0</td>\n",
       "      <td>Saline St</td>\n",
       "      <td>9257</td>\n",
       "      <td>Asphalt</td>\n",
       "      <td>Squirrel Hill South</td>\n",
       "      <td>5</td>\n",
       "      <td>14</td>\n",
       "      <td>42003141400</td>\n",
       "      <td>3</td>\n",
       "      <td>14</td>\n",
       "      <td>4</td>\n",
       "      <td>2-15</td>\n",
       "      <td>40.419835</td>\n",
       "      <td>-79.926062</td>\n",
       "    </tr>\n",
       "    <tr>\n",
       "      <th>1</th>\n",
       "      <td>1520886592</td>\n",
       "      <td>2</td>\n",
       "      <td>NaN</td>\n",
       "      <td>Summerset Dr</td>\n",
       "      <td>15346</td>\n",
       "      <td>NaN</td>\n",
       "      <td>Squirrel Hill South</td>\n",
       "      <td>5</td>\n",
       "      <td>14</td>\n",
       "      <td>42003141400</td>\n",
       "      <td>3</td>\n",
       "      <td>14</td>\n",
       "      <td>4</td>\n",
       "      <td>2-20</td>\n",
       "      <td>40.425040</td>\n",
       "      <td>-79.912040</td>\n",
       "    </tr>\n",
       "    <tr>\n",
       "      <th>2</th>\n",
       "      <td>858537521</td>\n",
       "      <td>3</td>\n",
       "      <td>511.0</td>\n",
       "      <td>Gold Way</td>\n",
       "      <td>1755</td>\n",
       "      <td>Asphalt</td>\n",
       "      <td>North Oakland</td>\n",
       "      <td>6</td>\n",
       "      <td>5</td>\n",
       "      <td>42003562000</td>\n",
       "      <td>3</td>\n",
       "      <td>5</td>\n",
       "      <td>4</td>\n",
       "      <td>2-23</td>\n",
       "      <td>40.456746</td>\n",
       "      <td>-79.954521</td>\n",
       "    </tr>\n",
       "    <tr>\n",
       "      <th>3</th>\n",
       "      <td>297775878</td>\n",
       "      <td>4</td>\n",
       "      <td>547.0</td>\n",
       "      <td>Gold Way</td>\n",
       "      <td>1755</td>\n",
       "      <td>Asphalt</td>\n",
       "      <td>North Oakland</td>\n",
       "      <td>6</td>\n",
       "      <td>5</td>\n",
       "      <td>42003562000</td>\n",
       "      <td>3</td>\n",
       "      <td>5</td>\n",
       "      <td>4</td>\n",
       "      <td>2-23</td>\n",
       "      <td>40.457333</td>\n",
       "      <td>-79.954899</td>\n",
       "    </tr>\n",
       "    <tr>\n",
       "      <th>4</th>\n",
       "      <td>1061197751</td>\n",
       "      <td>5</td>\n",
       "      <td>593.0</td>\n",
       "      <td>Gold Way</td>\n",
       "      <td>1755</td>\n",
       "      <td>Asphalt</td>\n",
       "      <td>North Oakland</td>\n",
       "      <td>6</td>\n",
       "      <td>5</td>\n",
       "      <td>42003562000</td>\n",
       "      <td>3</td>\n",
       "      <td>5</td>\n",
       "      <td>4</td>\n",
       "      <td>2-23</td>\n",
       "      <td>40.458061</td>\n",
       "      <td>-79.955355</td>\n",
       "    </tr>\n",
       "  </tbody>\n",
       "</table>\n",
       "</div>"
      ],
      "text/plain": [
       "           id  hump_id  locator_address_number locator_street  pavement  \\\n",
       "0   430808404        1                  4337.0      Saline St      9257   \n",
       "1  1520886592        2                     NaN   Summerset Dr     15346   \n",
       "2   858537521        3                   511.0       Gold Way      1755   \n",
       "3   297775878        4                   547.0       Gold Way      1755   \n",
       "4  1061197751        5                   593.0       Gold Way      1755   \n",
       "\n",
       "  speed_hump_material         neighborhood  council_district  ward  \\\n",
       "0             Asphalt  Squirrel Hill South                 5    14   \n",
       "1                 NaN  Squirrel Hill South                 5    14   \n",
       "2             Asphalt        North Oakland                 6     5   \n",
       "3             Asphalt        North Oakland                 6     5   \n",
       "4             Asphalt        North Oakland                 6     5   \n",
       "\n",
       "         tract  public_works_division  pli_division  police_zone fire_zone  \\\n",
       "0  42003141400                      3            14            4      2-15   \n",
       "1  42003141400                      3            14            4      2-20   \n",
       "2  42003562000                      3             5            4      2-23   \n",
       "3  42003562000                      3             5            4      2-23   \n",
       "4  42003562000                      3             5            4      2-23   \n",
       "\n",
       "    latitude  longitude  \n",
       "0  40.419835 -79.926062  \n",
       "1  40.425040 -79.912040  \n",
       "2  40.456746 -79.954521  \n",
       "3  40.457333 -79.954899  \n",
       "4  40.458061 -79.955355  "
      ]
     },
     "execution_count": 3,
     "metadata": {},
     "output_type": "execute_result"
    }
   ],
   "source": [
    "# import the dataset\n",
    "\n",
    "speed_humps = pd.read_csv(\"CSV/speedhumps.csv\")\n",
    "\n",
    "speed_humps.head()"
   ]
  },
  {
   "cell_type": "code",
   "execution_count": 4,
   "metadata": {},
   "outputs": [
    {
     "data": {
      "text/plain": [
       "Squirrel Hill South    18\n",
       "Carrick                 9\n",
       "Polish Hill             6\n",
       "North Oakland           6\n",
       "Homewood South          4\n",
       "South Side Slopes       4\n",
       "Upper Hill              4\n",
       "Perry North             4\n",
       "Brookline               4\n",
       "Garfield                3\n",
       "Bloomfield              3\n",
       "Mount Washington        3\n",
       "Squirrel Hill North     3\n",
       "South Side Flats        3\n",
       "Highland Park           2\n",
       "Overbrook               1\n",
       "Stanton Heights         1\n",
       "Central Oakland         1\n",
       "Name: neighborhood, dtype: int64"
      ]
     },
     "execution_count": 4,
     "metadata": {},
     "output_type": "execute_result"
    }
   ],
   "source": [
    "# sees the number of humps in every neighborhood\n",
    "\n",
    "speed_humps[\"neighborhood\"].value_counts()"
   ]
  },
  {
   "cell_type": "code",
   "execution_count": 5,
   "metadata": {},
   "outputs": [
    {
     "data": {
      "text/plain": [
       "<matplotlib.axes._subplots.AxesSubplot at 0x7f45d686a3a0>"
      ]
     },
     "execution_count": 5,
     "metadata": {},
     "output_type": "execute_result"
    },
    {
     "data": {
      "image/png": "[encoded data removed]",
      "text/plain": [
       "<Figure size 432x288 with 1 Axes>"
      ]
     },
     "metadata": {
      "needs_background": "light"
     },
     "output_type": "display_data"
    }
   ],
   "source": [
    "speed_humps[\"neighborhood\"].value_counts().plot.bar()"
   ]
  },
  {
   "cell_type": "markdown",
   "metadata": {},
   "source": [
    "As we can see here, there is a large disparity with how speed humps are distributed within the cities. Squirrel Hill South has 18 and the next one is 9 (Carrick). There are even some neighborhoods that only have 1. Of course there are many neighborhoods not included within the dataset, but that does not mean that the other neighborhoods do not have speed humps, but simply is not documented within this dataset."
   ]
  },
  {
   "cell_type": "code",
   "execution_count": 6,
   "metadata": {},
   "outputs": [],
   "source": [
    "def calculate_distance(lat1, long1, lat2, long2):\n",
    "    degree = pi/180\n",
    "    lat1 = radians(lat1)\n",
    "    lat2 = radians(lat2)\n",
    "    long1 = radians(long1)\n",
    "    long2 = radians(long2)\n",
    "    \n",
    "    # Haversine formula\n",
    "    dlon = long2 - long1\n",
    "    dlat = lat2 - lat1\n",
    "    a = sin(dlat / 2)**2 + cos(lat1) * cos(lat2) * sin(dlon / 2)**2\n",
    " \n",
    "    c = 2 * asin(sqrt(a))\n",
    "    \n",
    "    # Radius of earth in kilometers. \n",
    "    r = 6371\n",
    "      \n",
    "    # calculate the result\n",
    "    return(c * r)"
   ]
  },
  {
   "cell_type": "code",
   "execution_count": 7,
   "metadata": {},
   "outputs": [],
   "source": [
    "neighborhoods = speed_humps.neighborhood.unique()\n",
    "averages = []\n",
    "\n",
    "for n in neighborhoods:\n",
    "    temp = speed_humps[speed_humps.neighborhood == n]\n",
    "    total = 0\n",
    "    total_sum = 0\n",
    "    for i in range(0, len(temp)):\n",
    "        for t in range(i, len(temp)):\n",
    "            total_sum = total_sum + calculate_distance(temp.iloc[i][14], temp.iloc[i][15], temp.iloc[t][14], temp.iloc[t][15])\n",
    "            total = total + 1\n",
    "    averages.append(total_sum/total)"
   ]
  },
  {
   "cell_type": "code",
   "execution_count": 8,
   "metadata": {},
   "outputs": [],
   "source": [
    "averages, neighborhoods = zip(*sorted(zip(averages, neighborhoods)))"
   ]
  },
  {
   "cell_type": "code",
   "execution_count": 9,
   "metadata": {},
   "outputs": [
    {
     "data": {
      "image/png": "[encoded data removed]",
      "text/plain": [
       "<Figure size 432x288 with 1 Axes>"
      ]
     },
     "metadata": {
      "needs_background": "light"
     },
     "output_type": "display_data"
    }
   ],
   "source": [
    "plt.bar(neighborhoods, averages)\n",
    "\n",
    "plt.xticks(rotation=90,\n",
    "           horizontalalignment=\"center\")\n",
    "plt.show()"
   ]
  },
  {
   "cell_type": "markdown",
   "metadata": {},
   "source": [
    "Here are the average distances between all the speed humps. Of course, where there is only 1 speed hump, the average distance is 0. And it seems to basically flip the previous graph, while Squirrel Hill has the highest number of speed humps, it also has the greatest distance between them."
   ]
  },
  {
   "cell_type": "markdown",
   "metadata": {},
   "source": [
    "With the data collected of speed humps and comparing the number of speed humps and the average distances between the every speed hump, I was able to determine what neighborhoods would lead to more boosts on a longer time interval which would be best for in real life Mario Kart.\n",
    "\n",
    "The top 5 neighborhoods I can conclude are the best for this metric are:\n",
    "1. Squirrel Hill South - with 18 speed humps and the greatest average distance\n",
    "2. Carrick - with 9 speed humps and a high average distance\n",
    "3. North Oakland - with 6 speed humps and a high average distance\n",
    "4. Polish Hills - 6 with a relatively low average distance\n",
    "5. Southside Slopes - 4 with a relatively low average distance"
   ]
  }
 ],
 "metadata": {
  "kernelspec": {
   "display_name": "Python 3",
   "language": "python",
   "name": "python3"
  },
  "language_info": {
   "codemirror_mode": {
    "name": "ipython",
    "version": 3
   },
   "file_extension": ".py",
   "mimetype": "text/x-python",
   "name": "python",
   "nbconvert_exporter": "python",
   "pygments_lexer": "ipython3",
   "version": "3.8.3"
  }
 },
 "nbformat": 4,
 "nbformat_minor": 4
}
